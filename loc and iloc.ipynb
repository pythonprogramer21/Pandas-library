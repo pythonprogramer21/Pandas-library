{
 "cells": [
  {
   "cell_type": "code",
   "execution_count": 1,
   "id": "03e638bb",
   "metadata": {},
   "outputs": [
    {
     "data": {
      "text/html": [
       "<div>\n",
       "<style scoped>\n",
       "    .dataframe tbody tr th:only-of-type {\n",
       "        vertical-align: middle;\n",
       "    }\n",
       "\n",
       "    .dataframe tbody tr th {\n",
       "        vertical-align: top;\n",
       "    }\n",
       "\n",
       "    .dataframe thead th {\n",
       "        text-align: right;\n",
       "    }\n",
       "</style>\n",
       "<table border=\"1\" class=\"dataframe\">\n",
       "  <thead>\n",
       "    <tr style=\"text-align: right;\">\n",
       "      <th></th>\n",
       "      <th>ID</th>\n",
       "      <th>Display name</th>\n",
       "      <th>Username</th>\n",
       "      <th>Password</th>\n",
       "      <th>Licenses</th>\n",
       "    </tr>\n",
       "  </thead>\n",
       "  <tbody>\n",
       "    <tr>\n",
       "      <th>0</th>\n",
       "      <td>1</td>\n",
       "      <td>Aakif Khan</td>\n",
       "      <td>aakif.khan@abmspcoerpune.org</td>\n",
       "      <td>Fot79292</td>\n",
       "      <td>Microsoft 365 A3 for students use benefit</td>\n",
       "    </tr>\n",
       "    <tr>\n",
       "      <th>1</th>\n",
       "      <td>2</td>\n",
       "      <td>Amarsinh Tarte</td>\n",
       "      <td>amarsinh.tarte@abmspcoerpune.org</td>\n",
       "      <td>Kut58666</td>\n",
       "      <td>Microsoft 365 A3 for students use benefit</td>\n",
       "    </tr>\n",
       "    <tr>\n",
       "      <th>2</th>\n",
       "      <td>not data</td>\n",
       "      <td>Vikram Bhosale</td>\n",
       "      <td>vikram.bhosale@abmspcoerpune.org</td>\n",
       "      <td>Zag01909</td>\n",
       "      <td>Microsoft 365 A3 for students use benefit</td>\n",
       "    </tr>\n",
       "    <tr>\n",
       "      <th>3</th>\n",
       "      <td>4</td>\n",
       "      <td>Vaishnavi Boravake</td>\n",
       "      <td>vaishnavi.boravake@abmspcoerpune.org</td>\n",
       "      <td>Zat69168</td>\n",
       "      <td>Microsoft 365 A3 for students use benefit</td>\n",
       "    </tr>\n",
       "    <tr>\n",
       "      <th>4</th>\n",
       "      <td>5</td>\n",
       "      <td>Rahul Chalavade</td>\n",
       "      <td>rahul.chalavade@abmspcoerpune.org</td>\n",
       "      <td>Vut07294</td>\n",
       "      <td>Microsoft 365 A3 for students use benefit</td>\n",
       "    </tr>\n",
       "    <tr>\n",
       "      <th>...</th>\n",
       "      <td>...</td>\n",
       "      <td>...</td>\n",
       "      <td>...</td>\n",
       "      <td>...</td>\n",
       "      <td>...</td>\n",
       "    </tr>\n",
       "    <tr>\n",
       "      <th>76</th>\n",
       "      <td>NaN</td>\n",
       "      <td>Sushant Kawalekar</td>\n",
       "      <td>sushant.kawalekar@abmspcoerpune.org</td>\n",
       "      <td>Mas73644</td>\n",
       "      <td>Microsoft 365 A3 for students use benefit</td>\n",
       "    </tr>\n",
       "    <tr>\n",
       "      <th>77</th>\n",
       "      <td>78</td>\n",
       "      <td>Rutweek Todkar</td>\n",
       "      <td>rutweek.todkar@abmspcoerpune.org</td>\n",
       "      <td>Muc94045</td>\n",
       "      <td>Microsoft 365 A3 for students use benefit</td>\n",
       "    </tr>\n",
       "    <tr>\n",
       "      <th>78</th>\n",
       "      <td>79</td>\n",
       "      <td>Jayshri Totre</td>\n",
       "      <td>jayshri.totre@abmspcoerpune.org</td>\n",
       "      <td>Dog05275</td>\n",
       "      <td>Microsoft 365 A3 for students use benefit</td>\n",
       "    </tr>\n",
       "    <tr>\n",
       "      <th>79</th>\n",
       "      <td>NaN</td>\n",
       "      <td>Yadnesh Haribhakta</td>\n",
       "      <td>yadnesh.haribhakta@abmspcoerpune.org</td>\n",
       "      <td>Sad29461</td>\n",
       "      <td>Microsoft 365 A3 for students use benefit</td>\n",
       "    </tr>\n",
       "    <tr>\n",
       "      <th>80</th>\n",
       "      <td>81</td>\n",
       "      <td>Akash Zagade</td>\n",
       "      <td>akash.zagade@abmspcoerpune.org</td>\n",
       "      <td>Wuh25383</td>\n",
       "      <td>Microsoft 365 A3 for students use benefit</td>\n",
       "    </tr>\n",
       "  </tbody>\n",
       "</table>\n",
       "<p>81 rows × 5 columns</p>\n",
       "</div>"
      ],
      "text/plain": [
       "          ID        Display name                              Username  \\\n",
       "0          1          Aakif Khan          aakif.khan@abmspcoerpune.org   \n",
       "1          2      Amarsinh Tarte      amarsinh.tarte@abmspcoerpune.org   \n",
       "2   not data      Vikram Bhosale      vikram.bhosale@abmspcoerpune.org   \n",
       "3          4  Vaishnavi Boravake  vaishnavi.boravake@abmspcoerpune.org   \n",
       "4          5     Rahul Chalavade     rahul.chalavade@abmspcoerpune.org   \n",
       "..       ...                 ...                                   ...   \n",
       "76       NaN   Sushant Kawalekar   sushant.kawalekar@abmspcoerpune.org   \n",
       "77        78      Rutweek Todkar      rutweek.todkar@abmspcoerpune.org   \n",
       "78        79       Jayshri Totre       jayshri.totre@abmspcoerpune.org   \n",
       "79       NaN  Yadnesh Haribhakta  yadnesh.haribhakta@abmspcoerpune.org   \n",
       "80        81        Akash Zagade        akash.zagade@abmspcoerpune.org   \n",
       "\n",
       "    Password                                   Licenses  \n",
       "0   Fot79292  Microsoft 365 A3 for students use benefit  \n",
       "1   Kut58666  Microsoft 365 A3 for students use benefit  \n",
       "2   Zag01909  Microsoft 365 A3 for students use benefit  \n",
       "3   Zat69168  Microsoft 365 A3 for students use benefit  \n",
       "4   Vut07294  Microsoft 365 A3 for students use benefit  \n",
       "..       ...                                        ...  \n",
       "76  Mas73644  Microsoft 365 A3 for students use benefit  \n",
       "77  Muc94045  Microsoft 365 A3 for students use benefit  \n",
       "78  Dog05275  Microsoft 365 A3 for students use benefit  \n",
       "79  Sad29461  Microsoft 365 A3 for students use benefit  \n",
       "80  Wuh25383  Microsoft 365 A3 for students use benefit  \n",
       "\n",
       "[81 rows x 5 columns]"
      ]
     },
     "execution_count": 1,
     "metadata": {},
     "output_type": "execute_result"
    }
   ],
   "source": [
    "import pandas as pd\n",
    "k=pd.read_csv('F:\\\\suryakant notes\\\\practis.csv')\n",
    "k"
   ]
  },
  {
   "cell_type": "code",
   "execution_count": 2,
   "id": "c25a846d",
   "metadata": {},
   "outputs": [
    {
     "data": {
      "text/plain": [
       "ID                                                     46\n",
       "Display name                               Nouroza Bagwan\n",
       "Username                 nouroza.bagwan@abmspcoerpune.org\n",
       "Password                                         Bap52786\n",
       "Licenses        Microsoft 365 A3 for students use benefit\n",
       "Name: 45, dtype: object"
      ]
     },
     "execution_count": 2,
     "metadata": {},
     "output_type": "execute_result"
    }
   ],
   "source": [
    "k.loc[45]"
   ]
  },
  {
   "cell_type": "code",
   "execution_count": 3,
   "id": "12e49e8d",
   "metadata": {},
   "outputs": [
    {
     "data": {
      "text/html": [
       "<div>\n",
       "<style scoped>\n",
       "    .dataframe tbody tr th:only-of-type {\n",
       "        vertical-align: middle;\n",
       "    }\n",
       "\n",
       "    .dataframe tbody tr th {\n",
       "        vertical-align: top;\n",
       "    }\n",
       "\n",
       "    .dataframe thead th {\n",
       "        text-align: right;\n",
       "    }\n",
       "</style>\n",
       "<table border=\"1\" class=\"dataframe\">\n",
       "  <thead>\n",
       "    <tr style=\"text-align: right;\">\n",
       "      <th></th>\n",
       "      <th>ID</th>\n",
       "      <th>Display name</th>\n",
       "      <th>Username</th>\n",
       "      <th>Password</th>\n",
       "      <th>Licenses</th>\n",
       "    </tr>\n",
       "  </thead>\n",
       "  <tbody>\n",
       "    <tr>\n",
       "      <th>20</th>\n",
       "      <td>21</td>\n",
       "      <td>Maheshkumar Jadhav</td>\n",
       "      <td>maheshkumar.jadhav@abmspcoerpune.org</td>\n",
       "      <td>Yug20693</td>\n",
       "      <td>Microsoft 365 A3 for students use benefit</td>\n",
       "    </tr>\n",
       "    <tr>\n",
       "      <th>34</th>\n",
       "      <td>35</td>\n",
       "      <td>Shruti Mahale</td>\n",
       "      <td>shruti.mahale@abmspcoerpune.org</td>\n",
       "      <td>Nan40016</td>\n",
       "      <td>Microsoft 365 A3 for students use benefit</td>\n",
       "    </tr>\n",
       "    <tr>\n",
       "      <th>63</th>\n",
       "      <td>64</td>\n",
       "      <td>Khushali Sathawane</td>\n",
       "      <td>khushali.sathawane@abmspcoerpune.org</td>\n",
       "      <td>Fow74478</td>\n",
       "      <td>Microsoft 365 A3 for students use benefit</td>\n",
       "    </tr>\n",
       "    <tr>\n",
       "      <th>11</th>\n",
       "      <td>12</td>\n",
       "      <td>Sagar Donge</td>\n",
       "      <td>sagar.donge@abmspcoerpune.org</td>\n",
       "      <td>Vuc88654</td>\n",
       "      <td>Microsoft 365 A3 for students use benefit</td>\n",
       "    </tr>\n",
       "  </tbody>\n",
       "</table>\n",
       "</div>"
      ],
      "text/plain": [
       "    ID        Display name                              Username  Password  \\\n",
       "20  21  Maheshkumar Jadhav  maheshkumar.jadhav@abmspcoerpune.org  Yug20693   \n",
       "34  35       Shruti Mahale       shruti.mahale@abmspcoerpune.org  Nan40016   \n",
       "63  64  Khushali Sathawane  khushali.sathawane@abmspcoerpune.org  Fow74478   \n",
       "11  12         Sagar Donge         sagar.donge@abmspcoerpune.org  Vuc88654   \n",
       "\n",
       "                                     Licenses  \n",
       "20  Microsoft 365 A3 for students use benefit  \n",
       "34  Microsoft 365 A3 for students use benefit  \n",
       "63  Microsoft 365 A3 for students use benefit  \n",
       "11  Microsoft 365 A3 for students use benefit  "
      ]
     },
     "execution_count": 3,
     "metadata": {},
     "output_type": "execute_result"
    }
   ],
   "source": [
    "k.loc[[20,34,63,11]]"
   ]
  },
  {
   "cell_type": "code",
   "execution_count": 5,
   "id": "167d38aa",
   "metadata": {},
   "outputs": [
    {
     "data": {
      "text/plain": [
       "10        Abhishek Dighe\n",
       "11           Sagar Donge\n",
       "12    Pratiksha Gadadare\n",
       "13         Ganesha Bansa\n",
       "14         Saharsh Gavas\n",
       "15      Shreyas Ghodekar\n",
       "16      Suryakant Godase\n",
       "17        Abhishek Godse\n",
       "18         Aayusha Hadke\n",
       "19         Dipali Jadhav\n",
       "20    Maheshkumar Jadhav\n",
       "Name: Display name, dtype: object"
      ]
     },
     "execution_count": 5,
     "metadata": {},
     "output_type": "execute_result"
    }
   ],
   "source": [
    "k.loc[10:20,'Display name']"
   ]
  },
  {
   "cell_type": "code",
   "execution_count": 8,
   "id": "089b347e",
   "metadata": {},
   "outputs": [
    {
     "ename": "TypeError",
     "evalue": "'<' not supported between instances of 'str' and 'int'",
     "output_type": "error",
     "traceback": [
      "\u001b[1;31m---------------------------------------------------------------------------\u001b[0m",
      "\u001b[1;31mTypeError\u001b[0m                                 Traceback (most recent call last)",
      "\u001b[1;32m~\\AppData\\Local\\Temp/ipykernel_220/2499940119.py\u001b[0m in \u001b[0;36m<module>\u001b[1;34m\u001b[0m\n\u001b[1;32m----> 1\u001b[1;33m \u001b[0mk\u001b[0m\u001b[1;33m.\u001b[0m\u001b[0mloc\u001b[0m\u001b[1;33m[\u001b[0m\u001b[0mk\u001b[0m\u001b[1;33m[\u001b[0m\u001b[1;34m'ID'\u001b[0m\u001b[1;33m]\u001b[0m \u001b[1;33m<\u001b[0m \u001b[1;36m30\u001b[0m\u001b[1;33m]\u001b[0m\u001b[1;33m\u001b[0m\u001b[1;33m\u001b[0m\u001b[0m\n\u001b[0m",
      "\u001b[1;32mc:\\users\\jambhale\\appdata\\local\\programs\\python\\python38\\lib\\site-packages\\pandas\\core\\ops\\common.py\u001b[0m in \u001b[0;36mnew_method\u001b[1;34m(self, other)\u001b[0m\n\u001b[0;32m     63\u001b[0m         \u001b[0mother\u001b[0m \u001b[1;33m=\u001b[0m \u001b[0mitem_from_zerodim\u001b[0m\u001b[1;33m(\u001b[0m\u001b[0mother\u001b[0m\u001b[1;33m)\u001b[0m\u001b[1;33m\u001b[0m\u001b[1;33m\u001b[0m\u001b[0m\n\u001b[0;32m     64\u001b[0m \u001b[1;33m\u001b[0m\u001b[0m\n\u001b[1;32m---> 65\u001b[1;33m         \u001b[1;32mreturn\u001b[0m \u001b[0mmethod\u001b[0m\u001b[1;33m(\u001b[0m\u001b[0mself\u001b[0m\u001b[1;33m,\u001b[0m \u001b[0mother\u001b[0m\u001b[1;33m)\u001b[0m\u001b[1;33m\u001b[0m\u001b[1;33m\u001b[0m\u001b[0m\n\u001b[0m\u001b[0;32m     66\u001b[0m \u001b[1;33m\u001b[0m\u001b[0m\n\u001b[0;32m     67\u001b[0m     \u001b[1;32mreturn\u001b[0m \u001b[0mnew_method\u001b[0m\u001b[1;33m\u001b[0m\u001b[1;33m\u001b[0m\u001b[0m\n",
      "\u001b[1;32mc:\\users\\jambhale\\appdata\\local\\programs\\python\\python38\\lib\\site-packages\\pandas\\core\\arraylike.py\u001b[0m in \u001b[0;36m__lt__\u001b[1;34m(self, other)\u001b[0m\n\u001b[0;32m     35\u001b[0m     \u001b[1;33m@\u001b[0m\u001b[0munpack_zerodim_and_defer\u001b[0m\u001b[1;33m(\u001b[0m\u001b[1;34m\"__lt__\"\u001b[0m\u001b[1;33m)\u001b[0m\u001b[1;33m\u001b[0m\u001b[1;33m\u001b[0m\u001b[0m\n\u001b[0;32m     36\u001b[0m     \u001b[1;32mdef\u001b[0m \u001b[0m__lt__\u001b[0m\u001b[1;33m(\u001b[0m\u001b[0mself\u001b[0m\u001b[1;33m,\u001b[0m \u001b[0mother\u001b[0m\u001b[1;33m)\u001b[0m\u001b[1;33m:\u001b[0m\u001b[1;33m\u001b[0m\u001b[1;33m\u001b[0m\u001b[0m\n\u001b[1;32m---> 37\u001b[1;33m         \u001b[1;32mreturn\u001b[0m \u001b[0mself\u001b[0m\u001b[1;33m.\u001b[0m\u001b[0m_cmp_method\u001b[0m\u001b[1;33m(\u001b[0m\u001b[0mother\u001b[0m\u001b[1;33m,\u001b[0m \u001b[0moperator\u001b[0m\u001b[1;33m.\u001b[0m\u001b[0mlt\u001b[0m\u001b[1;33m)\u001b[0m\u001b[1;33m\u001b[0m\u001b[1;33m\u001b[0m\u001b[0m\n\u001b[0m\u001b[0;32m     38\u001b[0m \u001b[1;33m\u001b[0m\u001b[0m\n\u001b[0;32m     39\u001b[0m     \u001b[1;33m@\u001b[0m\u001b[0munpack_zerodim_and_defer\u001b[0m\u001b[1;33m(\u001b[0m\u001b[1;34m\"__le__\"\u001b[0m\u001b[1;33m)\u001b[0m\u001b[1;33m\u001b[0m\u001b[1;33m\u001b[0m\u001b[0m\n",
      "\u001b[1;32mc:\\users\\jambhale\\appdata\\local\\programs\\python\\python38\\lib\\site-packages\\pandas\\core\\series.py\u001b[0m in \u001b[0;36m_cmp_method\u001b[1;34m(self, other, op)\u001b[0m\n\u001b[0;32m   4946\u001b[0m         \u001b[0mrvalues\u001b[0m \u001b[1;33m=\u001b[0m \u001b[0mextract_array\u001b[0m\u001b[1;33m(\u001b[0m\u001b[0mother\u001b[0m\u001b[1;33m,\u001b[0m \u001b[0mextract_numpy\u001b[0m\u001b[1;33m=\u001b[0m\u001b[1;32mTrue\u001b[0m\u001b[1;33m)\u001b[0m\u001b[1;33m\u001b[0m\u001b[1;33m\u001b[0m\u001b[0m\n\u001b[0;32m   4947\u001b[0m \u001b[1;33m\u001b[0m\u001b[0m\n\u001b[1;32m-> 4948\u001b[1;33m         \u001b[0mres_values\u001b[0m \u001b[1;33m=\u001b[0m \u001b[0mops\u001b[0m\u001b[1;33m.\u001b[0m\u001b[0mcomparison_op\u001b[0m\u001b[1;33m(\u001b[0m\u001b[0mlvalues\u001b[0m\u001b[1;33m,\u001b[0m \u001b[0mrvalues\u001b[0m\u001b[1;33m,\u001b[0m \u001b[0mop\u001b[0m\u001b[1;33m)\u001b[0m\u001b[1;33m\u001b[0m\u001b[1;33m\u001b[0m\u001b[0m\n\u001b[0m\u001b[0;32m   4949\u001b[0m \u001b[1;33m\u001b[0m\u001b[0m\n\u001b[0;32m   4950\u001b[0m         \u001b[1;32mreturn\u001b[0m \u001b[0mself\u001b[0m\u001b[1;33m.\u001b[0m\u001b[0m_construct_result\u001b[0m\u001b[1;33m(\u001b[0m\u001b[0mres_values\u001b[0m\u001b[1;33m,\u001b[0m \u001b[0mname\u001b[0m\u001b[1;33m=\u001b[0m\u001b[0mres_name\u001b[0m\u001b[1;33m)\u001b[0m\u001b[1;33m\u001b[0m\u001b[1;33m\u001b[0m\u001b[0m\n",
      "\u001b[1;32mc:\\users\\jambhale\\appdata\\local\\programs\\python\\python38\\lib\\site-packages\\pandas\\core\\ops\\array_ops.py\u001b[0m in \u001b[0;36mcomparison_op\u001b[1;34m(left, right, op)\u001b[0m\n\u001b[0;32m    241\u001b[0m \u001b[1;33m\u001b[0m\u001b[0m\n\u001b[0;32m    242\u001b[0m     \u001b[1;32melif\u001b[0m \u001b[0mis_object_dtype\u001b[0m\u001b[1;33m(\u001b[0m\u001b[0mlvalues\u001b[0m\u001b[1;33m.\u001b[0m\u001b[0mdtype\u001b[0m\u001b[1;33m)\u001b[0m\u001b[1;33m:\u001b[0m\u001b[1;33m\u001b[0m\u001b[1;33m\u001b[0m\u001b[0m\n\u001b[1;32m--> 243\u001b[1;33m         \u001b[0mres_values\u001b[0m \u001b[1;33m=\u001b[0m \u001b[0mcomp_method_OBJECT_ARRAY\u001b[0m\u001b[1;33m(\u001b[0m\u001b[0mop\u001b[0m\u001b[1;33m,\u001b[0m \u001b[0mlvalues\u001b[0m\u001b[1;33m,\u001b[0m \u001b[0mrvalues\u001b[0m\u001b[1;33m)\u001b[0m\u001b[1;33m\u001b[0m\u001b[1;33m\u001b[0m\u001b[0m\n\u001b[0m\u001b[0;32m    244\u001b[0m \u001b[1;33m\u001b[0m\u001b[0m\n\u001b[0;32m    245\u001b[0m     \u001b[1;32melse\u001b[0m\u001b[1;33m:\u001b[0m\u001b[1;33m\u001b[0m\u001b[1;33m\u001b[0m\u001b[0m\n",
      "\u001b[1;32mc:\\users\\jambhale\\appdata\\local\\programs\\python\\python38\\lib\\site-packages\\pandas\\core\\ops\\array_ops.py\u001b[0m in \u001b[0;36mcomp_method_OBJECT_ARRAY\u001b[1;34m(op, x, y)\u001b[0m\n\u001b[0;32m     53\u001b[0m         \u001b[0mresult\u001b[0m \u001b[1;33m=\u001b[0m \u001b[0mlibops\u001b[0m\u001b[1;33m.\u001b[0m\u001b[0mvec_compare\u001b[0m\u001b[1;33m(\u001b[0m\u001b[0mx\u001b[0m\u001b[1;33m.\u001b[0m\u001b[0mravel\u001b[0m\u001b[1;33m(\u001b[0m\u001b[1;33m)\u001b[0m\u001b[1;33m,\u001b[0m \u001b[0my\u001b[0m\u001b[1;33m.\u001b[0m\u001b[0mravel\u001b[0m\u001b[1;33m(\u001b[0m\u001b[1;33m)\u001b[0m\u001b[1;33m,\u001b[0m \u001b[0mop\u001b[0m\u001b[1;33m)\u001b[0m\u001b[1;33m\u001b[0m\u001b[1;33m\u001b[0m\u001b[0m\n\u001b[0;32m     54\u001b[0m     \u001b[1;32melse\u001b[0m\u001b[1;33m:\u001b[0m\u001b[1;33m\u001b[0m\u001b[1;33m\u001b[0m\u001b[0m\n\u001b[1;32m---> 55\u001b[1;33m         \u001b[0mresult\u001b[0m \u001b[1;33m=\u001b[0m \u001b[0mlibops\u001b[0m\u001b[1;33m.\u001b[0m\u001b[0mscalar_compare\u001b[0m\u001b[1;33m(\u001b[0m\u001b[0mx\u001b[0m\u001b[1;33m.\u001b[0m\u001b[0mravel\u001b[0m\u001b[1;33m(\u001b[0m\u001b[1;33m)\u001b[0m\u001b[1;33m,\u001b[0m \u001b[0my\u001b[0m\u001b[1;33m,\u001b[0m \u001b[0mop\u001b[0m\u001b[1;33m)\u001b[0m\u001b[1;33m\u001b[0m\u001b[1;33m\u001b[0m\u001b[0m\n\u001b[0m\u001b[0;32m     56\u001b[0m     \u001b[1;32mreturn\u001b[0m \u001b[0mresult\u001b[0m\u001b[1;33m.\u001b[0m\u001b[0mreshape\u001b[0m\u001b[1;33m(\u001b[0m\u001b[0mx\u001b[0m\u001b[1;33m.\u001b[0m\u001b[0mshape\u001b[0m\u001b[1;33m)\u001b[0m\u001b[1;33m\u001b[0m\u001b[1;33m\u001b[0m\u001b[0m\n\u001b[0;32m     57\u001b[0m \u001b[1;33m\u001b[0m\u001b[0m\n",
      "\u001b[1;32mpandas\\_libs\\ops.pyx\u001b[0m in \u001b[0;36mpandas._libs.ops.scalar_compare\u001b[1;34m()\u001b[0m\n",
      "\u001b[1;31mTypeError\u001b[0m: '<' not supported between instances of 'str' and 'int'"
     ]
    }
   ],
   "source": [
    "k.loc[k['ID'] < 30]"
   ]
  },
  {
   "cell_type": "code",
   "execution_count": 9,
   "id": "4b6ae289",
   "metadata": {},
   "outputs": [
    {
     "data": {
      "text/plain": [
       "0             aakif.khan@abmspcoerpune.org\n",
       "1         amarsinh.tarte@abmspcoerpune.org\n",
       "2         vikram.bhosale@abmspcoerpune.org\n",
       "3     vaishnavi.boravake@abmspcoerpune.org\n",
       "4        rahul.chalavade@abmspcoerpune.org\n",
       "                      ...                 \n",
       "76     sushant.kawalekar@abmspcoerpune.org\n",
       "77        rutweek.todkar@abmspcoerpune.org\n",
       "78         jayshri.totre@abmspcoerpune.org\n",
       "79    yadnesh.haribhakta@abmspcoerpune.org\n",
       "80          akash.zagade@abmspcoerpune.org\n",
       "Name: Username, Length: 81, dtype: object"
      ]
     },
     "execution_count": 9,
     "metadata": {},
     "output_type": "execute_result"
    }
   ],
   "source": [
    "k.iloc[:,2]"
   ]
  },
  {
   "cell_type": "code",
   "execution_count": null,
   "id": "8fef1943",
   "metadata": {},
   "outputs": [],
   "source": []
  }
 ],
 "metadata": {
  "kernelspec": {
   "display_name": "Python 3 (ipykernel)",
   "language": "python",
   "name": "python3"
  },
  "language_info": {
   "codemirror_mode": {
    "name": "ipython",
    "version": 3
   },
   "file_extension": ".py",
   "mimetype": "text/x-python",
   "name": "python",
   "nbconvert_exporter": "python",
   "pygments_lexer": "ipython3",
   "version": "3.8.6"
  }
 },
 "nbformat": 4,
 "nbformat_minor": 5
}
